{
 "cells": [
  {
   "cell_type": "markdown",
   "metadata": {
    "id": "SPeulvp-meob"
   },
   "source": [
    "**ASSIGNMENT 1 - EMPIRICAL STUDY OF KNAPSACK PROBLEM**"
   ]
  },
  {
   "cell_type": "markdown",
   "metadata": {
    "id": "f2Eeke4Z_EkW"
   },
   "source": [
    "**1. Group Description**\n",
    "\n",
    "Group Number: 10\n",
    "\n",
    "Member Name 1: Xiaoxuan Wang\n",
    "\n",
    "Member Student Number 1: 300133594\n",
    "\n",
    "Member Name 2: Victor Li\n",
    "\n",
    "Member Student Number 2: 300146133"
   ]
  },
  {
   "cell_type": "markdown",
   "metadata": {
    "id": "Yq6OGiMX_da0"
   },
   "source": [
    "**2. Knapsack Problem**\n",
    "\n",
    "This assignment asked to solve the 0-1 knapsack problem. It is a classic optimization problem where you are given a set of items, each with a specific weight and a value. The goal is to determine the maximum value that can be obtained by selecting a subset of the items in such a way that the sum of the selected items' weights does not exceed a given capacity.\n",
    "\n",
    "The problem is NP-hard, meaning that as the number of items increases, the number of possible combinations grows exponentially, making it computationally infeasible to accurately find the best solution for large instances. Therefore, algorithms, such as greedy algorithms, simulated annealing and genetic algorithms, are used to *approximate* solutions to this problem efficiently, which is the main objective of this assignment."
   ]
  },
  {
   "cell_type": "markdown",
   "metadata": {
    "id": "C8vwHE0G_iOG"
   },
   "source": [
    "**3. Dataset**\n",
    "\n",
    "The dataset is coming from [Kaggle](https://www.kaggle.com/). It can be retrieved by following [this link](https://www.kaggle.com/datasets/warcoder/knapsack-problem?resource=download). Each entry of the dataset includes the following key-value pairs:\n",
    "\n",
    "1. Weights: A list of 5 numerical values representing the weights of 5 different items.\n",
    "2. Prices: A list of 5 numerical values representing the corresponding prices or values of the items.\n",
    "3. Capacity: A numerical value indicating the maximum weight the knapsack can hold.\n",
    "4. Best Picks: A list of 5 binary values (0 or 1) indicating whether the corresponding item is included in the optimal solution (1 for included, 0 for excluded).\n",
    "5. Best Price: A numerical value representing the maximum value achievable in the knapsack given the weights, prices, and capacity constraints."
   ]
  },
  {
   "cell_type": "markdown",
   "metadata": {
    "id": "OZTWy1qN2BzY"
   },
   "source": [
    "**Import important libraries**"
   ]
  },
  {
   "cell_type": "code",
   "execution_count": 2,
   "metadata": {
    "id": "GmP1buROhaOx"
   },
   "outputs": [],
   "source": [
    "import pandas as pd\n",
    "import itertools\n",
    "import numpy as np"
   ]
  },
  {
   "cell_type": "markdown",
   "metadata": {
    "id": "wNJyoeCz00Kr"
   },
   "source": [
    "**Read Dataset**\n",
    "\n",
    "As outlined in the project description, it should be possible for the correctors to execute your notebook without requiring any downloads.\n",
    "\n",
    "To facilitate access to the dataset without the need for downloads, you can upload it to a public GitHub repository and provide a link to the raw version of the dataset.\n",
    "\n",
    "The link to the raw version is as follows:\n",
    "*https://raw.githubusercontent.com/GITHUB_USERNAME/REPOSITORY_NAME/main/DATASETNAME.csv*\n",
    "\n",
    "For example:\n",
    "\n",
    "https://raw.githubusercontent.com/baharin/KnapsackProblem/main/knapsack_5_items.csv\n",
    "\n",
    "Now provide the link to YOUR dataset and read the dataset using pandas:"
   ]
  },
  {
   "cell_type": "code",
   "execution_count": 3,
   "metadata": {
    "id": "BrhpM-HwhaOy"
   },
   "outputs": [],
   "source": [
    "url = \"https://raw.githubusercontent.com/uOttawa-Collabs/CSI4106-Fall-2023/master/Assignment%201/knapsack_5_items.csv\"\n",
    "dataset = pd.read_csv(url)"
   ]
  },
  {
   "cell_type": "markdown",
   "metadata": {
    "id": "4Drc71BY2a7w"
   },
   "source": [
    "Let's see what are the columns of the dataset? :"
   ]
  },
  {
   "cell_type": "code",
   "execution_count": 4,
   "metadata": {
    "colab": {
     "base_uri": "https://localhost:8080/"
    },
    "id": "pGxZXmhNhaOz",
    "outputId": "09bb8058-957c-4aae-fe50-de83e5a3b424"
   },
   "outputs": [
    {
     "data": {
      "text/plain": [
       "Index(['Weights', 'Prices', 'Capacity', 'Best picks', 'Best price'], dtype='object')"
      ]
     },
     "execution_count": 4,
     "metadata": {},
     "output_type": "execute_result"
    }
   ],
   "source": [
    "dataset.columns"
   ]
  },
  {
   "cell_type": "markdown",
   "metadata": {
    "id": "aNZaqcCT2w-T"
   },
   "source": [
    "As we expected, we have columns for weights, costs, capacity, best picks and best price for all the instances."
   ]
  },
  {
   "cell_type": "markdown",
   "metadata": {
    "id": "jkokOHRj2kgZ"
   },
   "source": [
    "Now let's see the first 10 entries (rows):"
   ]
  },
  {
   "cell_type": "code",
   "execution_count": 5,
   "metadata": {
    "colab": {
     "base_uri": "https://localhost:8080/",
     "height": 363
    },
    "id": "0xqfPrBEhaOz",
    "outputId": "4376de03-1214-492f-ba5e-304f9f0f1129"
   },
   "outputs": [
    {
     "data": {
      "text/html": [
       "<div>\n",
       "<style scoped>\n",
       "    .dataframe tbody tr th:only-of-type {\n",
       "        vertical-align: middle;\n",
       "    }\n",
       "\n",
       "    .dataframe tbody tr th {\n",
       "        vertical-align: top;\n",
       "    }\n",
       "\n",
       "    .dataframe thead th {\n",
       "        text-align: right;\n",
       "    }\n",
       "</style>\n",
       "<table border=\"1\" class=\"dataframe\">\n",
       "  <thead>\n",
       "    <tr style=\"text-align: right;\">\n",
       "      <th></th>\n",
       "      <th>Weights</th>\n",
       "      <th>Prices</th>\n",
       "      <th>Capacity</th>\n",
       "      <th>Best picks</th>\n",
       "      <th>Best price</th>\n",
       "    </tr>\n",
       "  </thead>\n",
       "  <tbody>\n",
       "    <tr>\n",
       "      <th>0</th>\n",
       "      <td>[46 40 42 38 10]</td>\n",
       "      <td>[12 19 19 15  8]</td>\n",
       "      <td>40</td>\n",
       "      <td>[0. 1. 0. 0. 0.]</td>\n",
       "      <td>19.0</td>\n",
       "    </tr>\n",
       "    <tr>\n",
       "      <th>1</th>\n",
       "      <td>[11 31  4  6  7]</td>\n",
       "      <td>[ 2  8 18 16  3]</td>\n",
       "      <td>64</td>\n",
       "      <td>[1. 1. 1. 1. 1.]</td>\n",
       "      <td>47.0</td>\n",
       "    </tr>\n",
       "    <tr>\n",
       "      <th>2</th>\n",
       "      <td>[32 49 27 37 24]</td>\n",
       "      <td>[19 16 16  4  1]</td>\n",
       "      <td>87</td>\n",
       "      <td>[1. 0. 1. 0. 1.]</td>\n",
       "      <td>36.0</td>\n",
       "    </tr>\n",
       "    <tr>\n",
       "      <th>3</th>\n",
       "      <td>[20 35 22 23 16]</td>\n",
       "      <td>[19 17 19  9  1]</td>\n",
       "      <td>21</td>\n",
       "      <td>[1. 0. 0. 0. 0.]</td>\n",
       "      <td>19.0</td>\n",
       "    </tr>\n",
       "    <tr>\n",
       "      <th>4</th>\n",
       "      <td>[ 7 12 19 13 20]</td>\n",
       "      <td>[10 11 18 15  5]</td>\n",
       "      <td>50</td>\n",
       "      <td>[0. 1. 1. 1. 0.]</td>\n",
       "      <td>44.0</td>\n",
       "    </tr>\n",
       "    <tr>\n",
       "      <th>5</th>\n",
       "      <td>[27 10 25 25  7]</td>\n",
       "      <td>[13 19  7 16  3]</td>\n",
       "      <td>66</td>\n",
       "      <td>[1. 1. 0. 1. 0.]</td>\n",
       "      <td>48.0</td>\n",
       "    </tr>\n",
       "    <tr>\n",
       "      <th>6</th>\n",
       "      <td>[21  2 33 45 26]</td>\n",
       "      <td>[ 1 14 10  6 13]</td>\n",
       "      <td>80</td>\n",
       "      <td>[0. 1. 1. 0. 1.]</td>\n",
       "      <td>37.0</td>\n",
       "    </tr>\n",
       "    <tr>\n",
       "      <th>7</th>\n",
       "      <td>[37 27 39 14 25]</td>\n",
       "      <td>[18  7 15  4 13]</td>\n",
       "      <td>35</td>\n",
       "      <td>[0. 0. 0. 0. 1.]</td>\n",
       "      <td>13.0</td>\n",
       "    </tr>\n",
       "    <tr>\n",
       "      <th>8</th>\n",
       "      <td>[ 1 48  4 23 39]</td>\n",
       "      <td>[ 9  4 10 16 12]</td>\n",
       "      <td>51</td>\n",
       "      <td>[1. 0. 1. 1. 0.]</td>\n",
       "      <td>35.0</td>\n",
       "    </tr>\n",
       "    <tr>\n",
       "      <th>9</th>\n",
       "      <td>[ 4  3 22  9 32]</td>\n",
       "      <td>[14  6  3 17  8]</td>\n",
       "      <td>53</td>\n",
       "      <td>[1. 1. 0. 1. 1.]</td>\n",
       "      <td>45.0</td>\n",
       "    </tr>\n",
       "  </tbody>\n",
       "</table>\n",
       "</div>"
      ],
      "text/plain": [
       "            Weights            Prices  Capacity        Best picks  Best price\n",
       "0  [46 40 42 38 10]  [12 19 19 15  8]        40  [0. 1. 0. 0. 0.]        19.0\n",
       "1  [11 31  4  6  7]  [ 2  8 18 16  3]        64  [1. 1. 1. 1. 1.]        47.0\n",
       "2  [32 49 27 37 24]  [19 16 16  4  1]        87  [1. 0. 1. 0. 1.]        36.0\n",
       "3  [20 35 22 23 16]  [19 17 19  9  1]        21  [1. 0. 0. 0. 0.]        19.0\n",
       "4  [ 7 12 19 13 20]  [10 11 18 15  5]        50  [0. 1. 1. 1. 0.]        44.0\n",
       "5  [27 10 25 25  7]  [13 19  7 16  3]        66  [1. 1. 0. 1. 0.]        48.0\n",
       "6  [21  2 33 45 26]  [ 1 14 10  6 13]        80  [0. 1. 1. 0. 1.]        37.0\n",
       "7  [37 27 39 14 25]  [18  7 15  4 13]        35  [0. 0. 0. 0. 1.]        13.0\n",
       "8  [ 1 48  4 23 39]  [ 9  4 10 16 12]        51  [1. 0. 1. 1. 0.]        35.0\n",
       "9  [ 4  3 22  9 32]  [14  6  3 17  8]        53  [1. 1. 0. 1. 1.]        45.0"
      ]
     },
     "execution_count": 5,
     "metadata": {},
     "output_type": "execute_result"
    }
   ],
   "source": [
    "dataset.head(10)"
   ]
  },
  {
   "cell_type": "markdown",
   "metadata": {
    "id": "1dq9VpZh2r2A"
   },
   "source": [
    "**Preprocessing Step**\n",
    "\n",
    "Typically, the initial step in any project that involves reading and handling data is data preprocessing and cleansing.\n",
    "\n",
    "In our dataset, we expect the entries in the \"Weights,\" \"Prices,\" and \"Best Picks\" columns to be in the form of arrays of floats or integers, like this: [45, 40, 42, 38, 10]\n",
    "\n",
    "However, when you read each entry using pandas, they will be in a form of a string: \"[45 40 42 38 10]\"\n",
    "\n",
    "So we need to convert these strings into \"arrays of floats or integers.\" You can utilize the function provided below for this purpose:\n"
   ]
  },
  {
   "cell_type": "code",
   "execution_count": 6,
   "metadata": {
    "id": "BmUtgrBchaOz"
   },
   "outputs": [],
   "source": [
    "def string_to_list(string):\n",
    "    string_list = string.strip('[]').split()\n",
    "    float_list = [float(element) for element in string_list]\n",
    "    return float_list"
   ]
  },
  {
   "cell_type": "markdown",
   "metadata": {
    "id": "CP1nkMb27A4n"
   },
   "source": [
    "Furthermore, it's possible that certain rows in the dataset contain empty values in specific columns. We also aim to eliminate these rows as they do not provide any useful information. We use dropna() function to do so:"
   ]
  },
  {
   "cell_type": "code",
   "execution_count": 7,
   "metadata": {
    "id": "LT_iYgxhhaO0"
   },
   "outputs": [],
   "source": [
    "#Ignore the warning messages.\n",
    "dataset = dataset.dropna()\n",
    "\n",
    "dataset.Weights = dataset.Weights.apply(lambda x : string_to_list(x))\n",
    "dataset.Prices = dataset.Prices.apply(lambda x : string_to_list(x))\n",
    "dataset['Best picks'] = dataset['Best picks'].apply(lambda x : string_to_list(x))"
   ]
  },
  {
   "cell_type": "markdown",
   "metadata": {
    "id": "61go4NeA7gZU"
   },
   "source": [
    "Now it's time to implement the search algorithms. For each algorithm, a template is provided to you. You can modify this template if you want. But first you should try to go look at all the parameters used, as they are all important. You can also define any number of auxiliary functions you want.\n"
   ]
  },
  {
   "cell_type": "markdown",
   "metadata": {
    "id": "0ER3-7di7ufy"
   },
   "source": [
    "**4. Generate and Test**\n",
    "\n",
    "The basic idea behind the generate-and-test method is to generate all possible combinations (or subsets) of items and test each combination to find the one that satisfies the constraints and maximizes the objective function (in this case, the total value of items in the knapsack). The algorithm can be described in following steps:\n",
    "\n",
    "1. Generate all possible combinations\n",
    "    * Generate all binary combinations of items.\n",
    "    * In the 0-1 knapsack problem, each item can either be included (1) or excluded (0) from the knapsack.\n",
    "    * For *n* items, there are *2 ^ n* possible combinations.\n",
    "        * In our case, *n = 5*.\n",
    "    \n",
    "2. Test each combination\n",
    "    * For each generated combination, calculate the total weight and total value (price) of the items in the combination.\n",
    "    * Check if the total weight is less than or equal to the knapsack's capacity.\n",
    "        * If it is, compare the total value with the best solution found so far.\n",
    "            * If the current combination has a higher value, update the best solution.\n",
    "    \n",
    "3. Return the best solution and best value found in step 2."
   ]
  },
  {
   "cell_type": "code",
   "execution_count": 8,
   "metadata": {
    "id": "FqN5dVe7haO0"
   },
   "outputs": [],
   "source": [
    "def int_to_bit_list(n, min_length):\n",
    "    \"\"\"\n",
    "    This function converts an integer to corresponding binary in bit list representation.\n",
    "    The minimum length ensuring that the binary representation is padded with leading zeros if necessary.\n",
    "    \"\"\"\n",
    "    assert n >= 0\n",
    "    # Convert the integer to binary string and remove the '0b' prefix, then convert each character to an integer.\n",
    "    bits = list(int(bit) for bit in bin(n)[2:])\n",
    "    padding = []\n",
    "    if len(bits) < min_length:\n",
    "        # If the binary representation is shorter than the required minimum length,\n",
    "        # add zeros to the beginning to achieve the desired length.\n",
    "        padding = [0] * (min_length - len(bits))\n",
    "    return padding + bits\n",
    "    \n",
    "\n",
    "def gen_and_test(data):\n",
    "    weights = data[\"Weights\"]\n",
    "    prices = data[\"Prices\"]\n",
    "    capacity = data[\"Capacity\"]\n",
    "\n",
    "    item_count = len(weights)\n",
    "\n",
    "    best_solution_price = 0\n",
    "    best_solution = None\n",
    "\n",
    "    # Iterate through all possible binary combinations of items (represented as integers from 0 to 2^item_count - 1).\n",
    "    for i in range(0, 2 ** item_count):\n",
    "        # Convert the current integer 'i' to its bit list representation.\n",
    "        current_solution = int_to_bit_list(i, item_count)\n",
    "\n",
    "        # Calculate the total weight and total price of the current solution configuration.\n",
    "        current_solution_weight = sum(weight * in_bag for weight, in_bag in zip(weights, current_solution))\n",
    "        current_solution_price = sum(price * in_bag for price, in_bag in zip(prices, current_solution))\n",
    "        \n",
    "        if current_solution_weight <= capacity and current_solution_price > best_solution_price:\n",
    "            # Update the best solution's price and configuration if the current solution is better.\n",
    "            best_solution_price = current_solution_price\n",
    "            best_solution = current_solution\n",
    "    \n",
    "    return best_solution_price, best_solution"
   ]
  },
  {
   "cell_type": "code",
   "execution_count": 24,
   "metadata": {
    "id": "xQyI_WRShaO0"
   },
   "outputs": [],
   "source": [
    "solutions = []\n",
    "for _, row in dataset.iterrows():\n",
    "    target = row['Best price']\n",
    "    solution, indexes = gen_and_test(row)\n",
    "    solutions.append(1 if target == solution else 0)"
   ]
  },
  {
   "cell_type": "code",
   "execution_count": 25,
   "metadata": {
    "id": "yodeAYV3haO0"
   },
   "outputs": [
    {
     "name": "stdout",
     "output_type": "stream",
     "text": [
      "Accuracy of best prices found is 1.0\n"
     ]
    }
   ],
   "source": [
    "# Accuracy\n",
    "print('Accuracy of best prices found is', np.mean(solutions))"
   ]
  },
  {
   "cell_type": "markdown",
   "metadata": {
    "id": "sgYGIJMd-atd"
   },
   "source": [
    "**Your Analysis:**\n",
    "\n",
    "Since the generate-and-test method explores all possible combinations of items (*2^n* combinations for *n* items) and checks each combination's feasibility and value, it guarantees finding the optimal solution for each instance in the dataset. Thus, 100% accuracy is expected.\n",
    "\n",
    "Meanwhile, by doing generate-and-test, the dataset, which is to be used later in other algorithms, is validated and thus can be used with full confidence."
   ]
  },
  {
   "cell_type": "markdown",
   "metadata": {
    "id": "5rQYdUQx-dGi"
   },
   "source": [
    "------------------------------------------------------------------------------------------------"
   ]
  },
  {
   "cell_type": "markdown",
   "metadata": {
    "id": "z8_ipXOGhaO1"
   },
   "source": [
    "**5. Greedy Search**\n",
    "\n",
    "Greedy algorithm will always find the local optimum without considering global optimum. Based on the idea, the algorithm implementation sorts the items based on \"interest\" in descending order, where the `interest` function calculate the interest for each item. The `greedy` function then iterates through the sorted items and adds items to the knapsack as long as adding the item does not exceed the knapsack's capacity. The algorithm can be described in following steps:\n",
    "\n",
    "1. Sorting Items\n",
    "    * The `items` list is created from the dataset, where each item is represented as a tuple `(index, price, weight)`.\n",
    "    * This list is sorted based on the `interest` function, which returns the price of the item.\n",
    "2. Greedy Selection\n",
    "    * The algorithm iterates through the sorted list of items.\n",
    "    * For each item, it checks if adding the item to the knapsack does not exceed its capacity (`if weight <= capacity - current_weight`).\n",
    "\t    * If the item can be added, it is marked as included in the `best_solution` list, and the knapsack's current weight is updated.\n",
    "3. Result\n",
    "    * After iterating through all items, the `best_solution` list represents the selected items (1 if included, 0 if not).\n",
    "    * The total value of the selected items (`best_solution_price`) is calculated by summing up the prices of the selected items."
   ]
  },
  {
   "cell_type": "code",
   "execution_count": 26,
   "metadata": {
    "id": "bAfwGLDkhaO2"
   },
   "outputs": [],
   "source": [
    "def interest(item):\n",
    "    \"\"\"\n",
    "    Takes an item tuple as input and returns a value used for greedy sorting.\n",
    "    In this case, the greedy approach is to sort items by their prices in descending order.\n",
    "    You can also sort by the price-to-weight ratio (uncomment the line with 'return price / weight') for a different strategy.\n",
    "    \"\"\"\n",
    "    _, price, weight = item\n",
    "    #return price / weight\n",
    "    return price\n",
    "\n",
    "\n",
    "def greedy(data):\n",
    "    weights = data[\"Weights\"]\n",
    "    prices = data[\"Prices\"]\n",
    "    capacity = data[\"Capacity\"]\n",
    "\n",
    "    item_count = len(weights)\n",
    "\n",
    "    # Create a list of tuples for each item, where each tuple contains (index, price, weight).\n",
    "    items = list((index, price, weight) for index, (price, weight) in enumerate(zip(prices, weights)))\n",
    "\n",
    "    # Sort the items based on the value returned by the 'interest' function in descending order.\n",
    "    items.sort(key=interest, reverse=True)\n",
    "\n",
    "    # Initialize a list to represent the best solution (items selected or not) with zeros.\n",
    "    best_solution = [0] * item_count\n",
    "    current_weight = 0\n",
    "    for index, _, weight in items:\n",
    "        # Check if adding the current item to the knapsack does not exceed its capacity.\n",
    "        if weight <= capacity - current_weight:\n",
    "            # Set the corresponding index in the 'best_solution' list to 1 (indicating the item is selected).\n",
    "            best_solution[index] = 1\n",
    "            # Update the current total weight in the knapsack.\n",
    "            current_weight += weight\n",
    "            \n",
    "    # Calculate the total price of the best solution by summing up the prices of selected items\n",
    "    best_solution_price = sum(price * in_bag for price, in_bag in zip(prices, best_solution))\n",
    "    \n",
    "    return best_solution_price, best_solution"
   ]
  },
  {
   "cell_type": "code",
   "execution_count": 32,
   "metadata": {
    "id": "QeS54aqAhwhU"
   },
   "outputs": [],
   "source": [
    "solutions_greedy = []\n",
    "for _, row in dataset.iterrows():\n",
    "    target = row['Best price']\n",
    "    solution, indexes = greedy(row)\n",
    "    solutions_greedy.append(1 if target == solution else 0)"
   ]
  },
  {
   "cell_type": "code",
   "execution_count": 33,
   "metadata": {
    "id": "xWqCDMs-h0SX"
   },
   "outputs": [
    {
     "name": "stdout",
     "output_type": "stream",
     "text": [
      "Greedy Accuracy is 0.9066707156594797\n"
     ]
    }
   ],
   "source": [
    "print(\"Greedy Accuracy is\", np.mean(solutions_greedy))"
   ]
  },
  {
   "cell_type": "markdown",
   "metadata": {
    "id": "0DKep6e5-nuz"
   },
   "source": [
    "**Your Analysis:**\n",
    "\n",
    "The accuracy for the greedy algorithm is around 90.7%, which is higher than expected. On one hand, it means in most of the cases, the algorithm finds a best solution. On the other hand, the reason why the algorithm cannot find the optimal solution for all cases is that, the greedy approach selects items based on their price without considering their weight, which can lead to a sub-optimal decision.\n",
    "\n",
    "Suppose *n* is the number of items, *m* is the capacity of the backpack. The time complexity of greedy algorithm is *O(n log n)*, which is dominated by the complexity of sorting algorithm, while generate-and-test algorithm and dynamic programming algorithm both have larger complexity than the greedy algorithm, *O(2^n)* and *O(nm)*, respectively.\n",
    "\n",
    "In summary, while the greedy algorithm provides a quick solution and finds feasible solutions most of the time, it might not always provide the best value solution due to its greedy nature. The choice of algorithm depends on the specific requirements of the problem at hand: whether a fast, approximate solution is sufficient, or if an optimal solution is necessary regardless of the computational cost."
   ]
  },
  {
   "cell_type": "markdown",
   "metadata": {
    "id": "XGBWQqlK-lra"
   },
   "source": [
    "------------------------------------------------------------------------------------------------"
   ]
  },
  {
   "cell_type": "markdown",
   "metadata": {
    "id": "PtDW2ja3R93S"
   },
   "source": [
    "**6. Simulated Annealing**\n",
    "\n",
    "To implement the simulated annealing algorithm, firstly I generated the initial soluiton by randomly picks. For each item, a random number will be generated: if the number is larger than 0.5, the current item will be added into the initial solution, otherwise it won't be added.\n",
    "\n",
    "Then the algorithm will reapeat N times as cooling the temperature. For each time, a new valid solution will be generated. There are 3 ways to generate a new solution: take an item from the current solution, add an new item into the current solution, and take an item and add an another item into the current solution.\n",
    "\n",
    "Next the acceptance will check if the new solution is acceptable. If the total price of the new solution is larger than the local maximum solution's, the new solution will replace the local maximum solution. If not, it is possible to be accepted based on the probability. Otherwise, the local maximum will keep the old solution. The lower tempeatrue means the lower probability to make changes.\n",
    "\n",
    "At the end of an iteration, the temperature will be decreased based on the cooling rate."
   ]
  },
  {
   "cell_type": "code",
   "execution_count": 11,
   "metadata": {
    "id": "7rFhuXedSF_3"
   },
   "outputs": [],
   "source": [
    "import random\n",
    "import math\n",
    "\n",
    "\n",
    "def simulated_annealing(data, N, initial_temperature, cooling_rate):\n",
    "    '''\n",
    "    Implement the simulated annealing algorithm.\n",
    "    '''\n",
    "    #Initialize variables\n",
    "    weights = data[\"Weights\"]\n",
    "    prices = data[\"Prices\"]\n",
    "    capacity = data[\"Capacity\"]\n",
    "    length = len(weights)\n",
    "    temperature = initial_temperature\n",
    "\n",
    "    #Randomly generating a valid solution\n",
    "    initial_solution = get_initial_solution(weights, capacity, length)\n",
    "\n",
    "    best_solution = initial_solution\n",
    "    best_solution_price = get_total_value(prices, initial_solution)\n",
    "    local_solution = initial_solution\n",
    "    local_solution_price = best_solution_price\n",
    "\n",
    "    #Return the solution if the result is empty bag\n",
    "    if is_no_solution(weights, capacity):\n",
    "        return 0, []\n",
    "    \n",
    "    #Return the solution if the bag can hold all items\n",
    "    if is_one_solution(weights, capacity):\n",
    "        pick_all = [1]*length\n",
    "        return get_total_value(prices, pick_all), pick_all\n",
    "    \n",
    "    #Repeat N times according to the page 22 sudo code of lecture 3\n",
    "    for i in range(N):\n",
    "        #Generating a new valid solution based on the local maximum solution\n",
    "        new_solution = get_new_solution(local_solution, weights, capacity)\n",
    "\n",
    "        #Checking if the new solution is acceptable\n",
    "        if get_total_value(weights, new_solution) <= capacity and acceptance(prices, new_solution, local_solution_price, cooling_rate, temperature):\n",
    "            local_solution = new_solution\n",
    "            local_solution_price = get_total_value(prices, local_solution)\n",
    "\n",
    "            #Checking if the new solution has reached the global maximum\n",
    "            if local_solution_price > best_solution_price:\n",
    "                #Recording if it has reached\n",
    "                best_solution = local_solution.copy()\n",
    "                best_solution_price = local_solution_price\n",
    "        \n",
    "        #cooling temperatrue\n",
    "        temperature = temperature * cooling_rate\n",
    "        \n",
    "    return best_solution_price, best_solution\n",
    "\n",
    "\n",
    "def acceptance(prices: list[int], solution: list[int], local_solution_price: int, cooling_rate: float, temperature: float) -> bool:\n",
    "    '''\n",
    "    Check if the new solution is acceptable\n",
    "    '''\n",
    "    new_price = get_total_value(prices, solution)\n",
    "    variation = new_price - local_solution_price\n",
    "\n",
    "    #If the current solution is better than the local maximum solution\n",
    "    if variation > 0:\n",
    "        return True\n",
    "    \n",
    "    #Accept the current solution based on the probability\n",
    "    #lower temperture means lower probability to make changes\n",
    "    return cooling_rate < math.exp(variation/temperature)\n",
    "\n",
    "\n",
    "\n",
    "def get_new_solution(tmp_solution: list[int], weights: list[int], capacity: int) -> list[int]:\n",
    "    '''\n",
    "    Generating a new solution which total weights is less than its capacity based on the current solution\n",
    "    '''\n",
    "    new_solution = []\n",
    "    selected = []\n",
    "    unselected = []\n",
    "    for i in range(len(tmp_solution)):\n",
    "        if tmp_solution[i] == 1:\n",
    "            selected.append(i)\n",
    "        else:\n",
    "            unselected.append(i)\n",
    "    \n",
    "    #Put an item if the bag is empty\n",
    "    if len(selected) == 0:\n",
    "        return put(unselected, tmp_solution)\n",
    "    \n",
    "    #Take an item if the bag is full\n",
    "    if len(unselected) == 0:\n",
    "        return take(selected, tmp_solution)\n",
    "    \n",
    "\n",
    "    random_num = random.random()\n",
    "\n",
    "    #Take an item from the bag\n",
    "    if random_num < 0.333:\n",
    "        new_solution = take(selected, tmp_solution)\n",
    "        \n",
    "    #Put an item into the bag\n",
    "    elif random_num < 0.666:\n",
    "        new_solution = put(unselected, tmp_solution)\n",
    "        \n",
    "    #Take an item and put an another item\n",
    "    else:\n",
    "        new_solution = take(selected, tmp_solution)\n",
    "        new_solution = put(unselected, new_solution)\n",
    "    return new_solution\n",
    "\n",
    "\n",
    "def get_initial_solution(weights: list[int], capacity: int, length: int) -> list[int]:\n",
    "    '''\n",
    "    Randomly generating a valid solution\n",
    "    '''\n",
    "    new_solution = [0]*length\n",
    "    for i in range(length):\n",
    "        if (random.random() > 0.5):\n",
    "            new_solution[i] = 1\n",
    "    \n",
    "    #return if the solution is valid\n",
    "    if get_total_value(weights, new_solution) <= capacity:\n",
    "        return new_solution\n",
    "    \n",
    "    #Else generating another solution\n",
    "    return get_initial_solution(weights, capacity, length)\n",
    "\n",
    "\n",
    "def get_total_value(data: list[int], solution: list[int]) -> int:\n",
    "    '''\n",
    "    Calculate the total weight / price of a solution\n",
    "    '''\n",
    "    result = 0\n",
    "    for i in range(len(solution)):\n",
    "        if solution[i]:\n",
    "            result += data[i]\n",
    "    return result\n",
    "\n",
    "\n",
    "def put(unselected_list: list[int], tmp_solution: list[int]) -> list[int]:\n",
    "    '''\n",
    "    Randomly put an unselected item into the bag\n",
    "    '''\n",
    "    new_solution = tmp_solution.copy()\n",
    "    if len(unselected_list) == 1:\n",
    "        #If there is only one item can be chose\n",
    "        random1 = 0\n",
    "    else:\n",
    "        random1 = math.floor(math.fmod(random.random() * 100, len(unselected_list)))\n",
    "    \n",
    "    new_solution[unselected_list[random1]] = 1\n",
    "\n",
    "    return new_solution\n",
    "\n",
    "\n",
    "def take(selected_list: list[int], tmp_solution: list[int]) -> list[int]:\n",
    "    '''\n",
    "    Randomly take an selected item from the bag\n",
    "    '''\n",
    "    new_solution = tmp_solution.copy()\n",
    "    if len(selected_list) == 1:\n",
    "        #If there is only one item can be chose\n",
    "        random1 = 0\n",
    "    else:\n",
    "        random1 = math.floor(math.fmod(random.random() * 100, len(selected_list)))\n",
    "\n",
    "    new_solution[selected_list[random1]] = 0\n",
    "\n",
    "    return new_solution\n",
    "\n",
    "def is_no_solution(weights: list[int], capacity: int) -> bool:\n",
    "    '''\n",
    "    Return True if the bag cannot put any item from the list, otherwise return False\n",
    "    '''\n",
    "    for i in weights:\n",
    "        if i < capacity:\n",
    "            return False\n",
    "    return True\n",
    "\n",
    "def is_one_solution(weights: list[int], capacity: int) -> bool:\n",
    "    '''\n",
    "    Return True if the bag can put all items from the list, otherwise return False\n",
    "    '''\n",
    "    length = len(weights)\n",
    "    solution = [1]*length\n",
    "    return get_total_value(weights, solution) <= capacity"
   ]
  },
  {
   "cell_type": "code",
   "execution_count": 36,
   "metadata": {
    "id": "mAWQLNsESNIZ"
   },
   "outputs": [],
   "source": [
    "solutions_sa = []\n",
    "for _, row in dataset.iterrows():\n",
    "    target = row['Best price']\n",
    "    solution, indexes = simulated_annealing(row, N = 200, initial_temperature=3000, cooling_rate=0.95)\n",
    "    solutions_sa.append(1 if target == solution else 0)\n"
   ]
  },
  {
   "cell_type": "code",
   "execution_count": 37,
   "metadata": {
    "id": "jUdWEABkhkih"
   },
   "outputs": [
    {
     "name": "stdout",
     "output_type": "stream",
     "text": [
      "Simulated Annealing Accuracy is 0.9864358740763235\n"
     ]
    }
   ],
   "source": [
    "print(\"Simulated Annealing Accuracy is\", np.mean(solutions_sa))"
   ]
  },
  {
   "cell_type": "markdown",
   "metadata": {
    "id": "PvvpYOOr-qqr"
   },
   "source": [
    "**Your Analysis:**\n",
    "\n",
    "Based on the diagram, higher the cooling rate is, higher the accurary we can get. because the cooling rate affects both temperature change and probaility of evaluating acceptance. However, we can see that the overall improvment is not really high. High value of cooling rate can increase 10% of the accuraries.\n",
    "Then, I changed the variable N which is the number of iteration and keep the cooling_rate as 0.95. From the diagram, the larger N is , the higher accuracy that algorithm can reach. The high value of N means that the function has more chances to explore different ways. The overall accuracy is high under a constant high value of cooling rate. When the N value is low, the accurary is also very low down to 40%.\n",
    "In addition, I also test the accuracies under different initial_temperature. The temperature will affect the probability of acceptance, and when the temperature is high, the higher chance that the algothrim will keep the worse solution occurs. According to the diagrams below, the temperature did not significantly improve the result accuracy as same as the cooling rate.\n",
    "\n",
    "The results of Simulated Annealing algothrim under best conditions is about 0.98 which is really close to the best solutions. It has reached the expectation of implementation.\n",
    "\n",
    "In conclusion, the N which is the iteration times is the most important parameter that affect the accuracy of the result.\n",
    "\n",
    "![Alt text](SA_cooling_vs_acc.png)\n",
    "![Alt text](SA_N_vs_acc.png)\n",
    "![Alt text](SA_T_vs_acc.png)\n"
   ]
  },
  {
   "cell_type": "code",
   "execution_count": 13,
   "metadata": {},
   "outputs": [
    {
     "data": {
      "image/png": "[encoded data removed]",
      "text/plain": [
       "<Figure size 640x480 with 1 Axes>"
      ]
     },
     "metadata": {},
     "output_type": "display_data"
    }
   ],
   "source": [
    "#Cooling rate vs Accuracy\n",
    "\n",
    "from matplotlib import pyplot as plot\n",
    "\n",
    "cooling_rates = []\n",
    "i = 0.05\n",
    "while i < 1:\n",
    "    cooling_rates.append(i)\n",
    "    i += 0.05\n",
    "\n",
    "results = []\n",
    "\n",
    "for rate in cooling_rates:\n",
    "    solutions_sa = []\n",
    "    for _, row in dataset.iterrows():\n",
    "        target = row['Best price']\n",
    "        solution, indexes = simulated_annealing(row, N = 200, initial_temperature=3000, cooling_rate=rate)\n",
    "        solutions_sa.append(1 if target == solution else 0)\n",
    "    results.append(np.mean(solutions_sa))\n",
    "\n",
    "plot.plot(cooling_rates, results, color='green', marker='o', linestyle='solid')\n",
    "plot.title(\"Cooling rate vs Accuracy\")\n",
    "plot.xlabel(\"Cooling rate\")\n",
    "plot.ylabel(\"Accuracy\")\n",
    "plot.show()"
   ]
  },
  {
   "cell_type": "code",
   "execution_count": 107,
   "metadata": {},
   "outputs": [
    {
     "data": {
      "image/png": "[encoded data removed]",
      "text/plain": [
       "<Figure size 640x480 with 1 Axes>"
      ]
     },
     "metadata": {},
     "output_type": "display_data"
    }
   ],
   "source": [
    "#Iteration Times vs Accuracy\n",
    "\n",
    "from matplotlib import pyplot as plot\n",
    "\n",
    "N_list = []\n",
    "i = 1\n",
    "while i < 21:\n",
    "    N_list.append(i*10)\n",
    "    i += 1\n",
    "\n",
    "results = []\n",
    "\n",
    "for n in N_list:\n",
    "    solutions_sa = []\n",
    "    for _, row in dataset.iterrows():\n",
    "        target = row['Best price']\n",
    "        solution, indexes = simulated_annealing(row, N = n, initial_temperature=3000, cooling_rate=0.95)\n",
    "        solutions_sa.append(1 if target == solution else 0)\n",
    "    results.append(np.mean(solutions_sa))\n",
    "\n",
    "plot.plot(N_list, results, color='green', marker='o', linestyle='solid')\n",
    "plot.title(\"Iteration Times vs Accuracy\")\n",
    "plot.xlabel(\"Iteration Times\")\n",
    "plot.ylabel(\"Accuracy\")\n",
    "plot.show()"
   ]
  },
  {
   "cell_type": "code",
   "execution_count": 106,
   "metadata": {},
   "outputs": [
    {
     "data": {
      "image/png": "[encoded data removed]",
      "text/plain": [
       "<Figure size 640x480 with 1 Axes>"
      ]
     },
     "metadata": {},
     "output_type": "display_data"
    }
   ],
   "source": [
    "#Temperature vs Accuracy\n",
    "\n",
    "from matplotlib import pyplot as plot\n",
    "\n",
    "temperatures = []\n",
    "i = 1\n",
    "temperatures.append(1)\n",
    "while i < 30:\n",
    "    temperatures.append(i*100)\n",
    "    i += 1\n",
    "\n",
    "results2 = []\n",
    "\n",
    "for temperature in temperatures:\n",
    "    solutions_sa2 = []\n",
    "    for _, row in dataset.iterrows():\n",
    "        target = row['Best price']\n",
    "        solution2, indexes2 = simulated_annealing(row, N = 200, initial_temperature=temperature, cooling_rate=0.95)\n",
    "        solutions_sa2.append(1 if target == solution2 else 0)\n",
    "    results2.append(np.mean(solutions_sa2))\n",
    "\n",
    "plot.plot(temperatures, results2, color='green', marker='o', linestyle='solid')\n",
    "plot.title(\"Temperature vs Accuracy with N=200\")\n",
    "plot.xlabel(\"Temperature\")\n",
    "plot.ylabel(\"Accuracy\")\n",
    "plot.show()"
   ]
  },
  {
   "cell_type": "markdown",
   "metadata": {
    "id": "n0QXt7Ys-rCc"
   },
   "source": [
    "------------------------------------------------------------------------------------------------"
   ]
  },
  {
   "cell_type": "markdown",
   "metadata": {
    "id": "RHYjBUvVhtGV"
   },
   "source": [
    "**7. Genetic Algorithm**\n",
    "\n",
    "Genetic algorithms are a popular optimization technique inspired by the principles of natural evolution. They explore a wide range of potential solution and operate on a population of solutions simultaneously, allowing parallel exploration of different regions of the solution space. This parallelism not only enable faster search in the solution space, but also helps in avoiding local optima by maintaining a diverse population. When solving the 0-1 knapsack problem, the algorithm can be described in following steps:\n",
    "\n",
    "1. Initialization\n",
    "    * The algorithm starts by creating a population of individuals, where each individual represents a possible solution to the knapsack problem.\n",
    "    * Each individual is represented as a binary string of 0s and 1s, where 1 indicates the corresponding item is included in the knapsack, and 0 indicates it is not.\n",
    "    \n",
    "2. Fitness Calculation\n",
    "    * The fitness of each individual is calculated based on the total price of the items included in the knapsack.\n",
    "\t    * If the total weight of the selected items exceeds the knapsack's capacity, the fitness is set to 0.\n",
    "    \n",
    "3. Selection\n",
    "    * Parents for the next generation are selected using tournament selection.\n",
    "    * In tournament selection, a subset of individuals is randomly chosen from the population, and the individual with the highest fitness among them is selected as a parent.\n",
    "\t    * This process is repeated to select multiple parents.\n",
    "    \n",
    "4. Crossover\n",
    "    * Parents are used to create offspring through crossover (recombination).\n",
    "    * A random crossover point is chosen, and the bits beyond that point are exchanged between the parents to create two children.\n",
    "    \n",
    "5. Mutation\n",
    "    * After crossover, each bit in the offspring has a chance to be flipped (mutated) based on the mutation rate.\n",
    "    * Mutation introduces genetic diversity into the population.\n",
    "    \n",
    "6. Replacement\n",
    "    * The offspring replace the old population, and the process repeats for a fixed number of generations.\n",
    "    \n",
    "7. Termination\n",
    "    * After a specified number of generations, the algorithm terminates.\n",
    "    * The best individual in the final population represents the best solution to the knapsack problem in the given context."
   ]
  },
  {
   "cell_type": "code",
   "execution_count": 15,
   "metadata": {
    "id": "5kGKKUN8iP30"
   },
   "outputs": [],
   "source": [
    "import random\n",
    "\n",
    "def calculate_fitness(ind, prices, weights, capacity):\n",
    "    total_price = 0\n",
    "    total_weight = 0\n",
    "    for i in range(len(ind)):\n",
    "        if ind[i] == 1:\n",
    "            total_price += prices[i]\n",
    "            total_weight += weights[i]\n",
    "    if total_weight > capacity:\n",
    "        return 0\n",
    "    else:\n",
    "        return total_price\n",
    "\n",
    "def crossover(parent1, parent2, cross_rate):\n",
    "    if random.random() < cross_rate:\n",
    "        # Perform one-point crossover\n",
    "        point = random.randint(1, len(parent1) - 1)\n",
    "        child1 = parent1[:point] + parent2[point:]\n",
    "        child2 = parent2[:point] + parent1[point:]\n",
    "        return child1, child2\n",
    "    else:\n",
    "        return parent1, parent2\n",
    "\n",
    "def mutation(child, mut_rate):\n",
    "    mutated_child = list(child)\n",
    "    for i in range(len(mutated_child)):\n",
    "        if random.random() < mut_rate:\n",
    "            # Flip the bit (perform mutation)\n",
    "            mutated_child[i] = 1 - mutated_child[i]\n",
    "    return tuple(mutated_child)\n",
    "\n",
    "def tournament_selection(population, fitness_values, tournament_size):\n",
    "    selected_indices = random.sample(range(len(population)), tournament_size)\n",
    "    tournament_winner = selected_indices[0]\n",
    "    for i in selected_indices:\n",
    "        if fitness_values[i] > fitness_values[tournament_winner]:\n",
    "            tournament_winner = i\n",
    "    return population[tournament_winner]\n",
    "\n",
    "def genetic_algorithm(data, population_size, num_generations, mut_rate, cross_rate, tournament_size):\n",
    "    weights = data[\"Weights\"]\n",
    "    prices = data[\"Prices\"]\n",
    "    capacity = data[\"Capacity\"]\n",
    "    \n",
    "    population = []\n",
    "    for _ in range(population_size):\n",
    "        individual = tuple(random.randint(0, 1) for _ in range(len(prices)))\n",
    "        population.append(individual)\n",
    "\n",
    "    for generation in range(num_generations):\n",
    "        fitness_values = [calculate_fitness(individual, prices, weights, capacity) for individual in population]\n",
    "\n",
    "        # Select parents using tournament selection\n",
    "        parents = [tournament_selection(population, fitness_values, tournament_size) for _ in range(population_size)]\n",
    "\n",
    "        # Create offspring through crossover and mutation\n",
    "        offspring = []\n",
    "        for i in range(0, population_size, 2):\n",
    "            parent1 = parents[i]\n",
    "            parent2 = parents[i + 1]\n",
    "            child1, child2 = crossover(parent1, parent2, cross_rate)\n",
    "            child1 = mutation(child1, mut_rate)\n",
    "            child2 = mutation(child2, mut_rate)\n",
    "            offspring.extend([child1, child2])\n",
    "\n",
    "        # Replace the old population with the offspring\n",
    "        population = offspring\n",
    "\n",
    "    # Find the best solution\n",
    "    best_solution_price = max(fitness_values)\n",
    "    best_solution_index = fitness_values.index(best_solution_price)\n",
    "    best_solution = population[best_solution_index]\n",
    "\n",
    "    return best_solution_price, best_solution"
   ]
  },
  {
   "cell_type": "code",
   "execution_count": 16,
   "metadata": {},
   "outputs": [],
   "source": [
    "def genetic_algorithm_worker(parameters):\n",
    "    mut_rate, cross_rate = parameters\n",
    "    solutions_ga = []\n",
    "    for _, row in dataset.iterrows():\n",
    "        target = row['Best price']\n",
    "        solution, indexes = genetic_algorithm(row, population_size = 50, num_generations = 50, mut_rate = mut_rate, cross_rate = cross_rate, tournament_size = 5)\n",
    "        solutions_ga.append(1 if target == solution else 0)\n",
    "    return np.mean(solutions_ga)"
   ]
  },
  {
   "cell_type": "markdown",
   "metadata": {},
   "source": [
    "**Default rate**\n",
    "\n",
    "The rate of crossover is 0.7 and the rate of mutation is 0.1."
   ]
  },
  {
   "cell_type": "code",
   "execution_count": 42,
   "metadata": {
    "id": "hJ3ceIHSs-W-"
   },
   "outputs": [
    {
     "name": "stdout",
     "output_type": "stream",
     "text": [
      "Genetic Algorithm Accuracy is 0.9984816276951108\n"
     ]
    }
   ],
   "source": [
    "print(\"Genetic Algorithm Accuracy is\", genetic_algorithm_worker((0.1, 0.7)))"
   ]
  },
  {
   "cell_type": "markdown",
   "metadata": {},
   "source": [
    "**Exploring other rates**\n",
    "\n",
    "The rate of crossover and mutation both have the range of \\[0.1, 0.9\\] with step of 0.1."
   ]
  },
  {
   "cell_type": "code",
   "execution_count": 122,
   "metadata": {},
   "outputs": [
    {
     "name": "stdout",
     "output_type": "stream",
     "text": [
      "Iteration 1: \n"
     ]
    },
    {
     "ename": "NameError",
     "evalue": "name 'genetic_algorithm_worker' is not defined",
     "output_type": "error",
     "traceback": [
      "\u001b[1;31m---------------------------------------------------------------------------\u001b[0m",
      "\u001b[1;31mNameError\u001b[0m                                 Traceback (most recent call last)",
      "\u001b[1;32me:\\UO4_2\\CSI4106\\4106Assignments\\CSI4106-Fall-2023\\Assignment 1\\CSI4106_A1.ipynb Cell 46\u001b[0m line \u001b[0;36m4\n\u001b[0;32m     <a href='vscode-notebook-cell:/e%3A/UO4_2/CSI4106/4106Assignments/CSI4106-Fall-2023/Assignment%201/CSI4106_A1.ipynb#Y266sZmlsZQ%3D%3D?line=40'>41</a>\u001b[0m cross_rate_range\u001b[39m=\u001b[39mnp\u001b[39m.\u001b[39marange(\u001b[39m0.1\u001b[39m, \u001b[39m1\u001b[39m, \u001b[39m0.1\u001b[39m)\n\u001b[0;32m     <a href='vscode-notebook-cell:/e%3A/UO4_2/CSI4106/4106Assignments/CSI4106-Fall-2023/Assignment%201/CSI4106_A1.ipynb#Y266sZmlsZQ%3D%3D?line=41'>42</a>\u001b[0m iteration_count \u001b[39m=\u001b[39m \u001b[39m5\u001b[39m\n\u001b[1;32m---> <a href='vscode-notebook-cell:/e%3A/UO4_2/CSI4106/4106Assignments/CSI4106-Fall-2023/Assignment%201/CSI4106_A1.ipynb#Y266sZmlsZQ%3D%3D?line=43'>44</a>\u001b[0m result \u001b[39m=\u001b[39m genetic_algorithm_epoch(\u001b[39m5\u001b[39;49m, mut_rate_range, cross_rate_range)\n\u001b[0;32m     <a href='vscode-notebook-cell:/e%3A/UO4_2/CSI4106/4106Assignments/CSI4106-Fall-2023/Assignment%201/CSI4106_A1.ipynb#Y266sZmlsZQ%3D%3D?line=44'>45</a>\u001b[0m genetic_algorithm_plot(mut_rate_range, cross_rate_range, result)\n",
      "\u001b[1;32me:\\UO4_2\\CSI4106\\4106Assignments\\CSI4106-Fall-2023\\Assignment 1\\CSI4106_A1.ipynb Cell 46\u001b[0m line \u001b[0;36m2\n\u001b[0;32m     <a href='vscode-notebook-cell:/e%3A/UO4_2/CSI4106/4106Assignments/CSI4106-Fall-2023/Assignment%201/CSI4106_A1.ipynb#Y266sZmlsZQ%3D%3D?line=18'>19</a>\u001b[0m \u001b[39mfor\u001b[39;00m i \u001b[39min\u001b[39;00m \u001b[39mrange\u001b[39m(iteration_count):\n\u001b[0;32m     <a href='vscode-notebook-cell:/e%3A/UO4_2/CSI4106/4106Assignments/CSI4106-Fall-2023/Assignment%201/CSI4106_A1.ipynb#Y266sZmlsZQ%3D%3D?line=19'>20</a>\u001b[0m     \u001b[39mprint\u001b[39m(\u001b[39mf\u001b[39m\u001b[39m\"\u001b[39m\u001b[39mIteration \u001b[39m\u001b[39m{\u001b[39;00mi\u001b[39m \u001b[39m\u001b[39m+\u001b[39m\u001b[39m \u001b[39m\u001b[39m1\u001b[39m\u001b[39m}\u001b[39;00m\u001b[39m: \u001b[39m\u001b[39m\"\u001b[39m)\n\u001b[1;32m---> <a href='vscode-notebook-cell:/e%3A/UO4_2/CSI4106/4106Assignments/CSI4106-Fall-2023/Assignment%201/CSI4106_A1.ipynb#Y266sZmlsZQ%3D%3D?line=20'>21</a>\u001b[0m     result \u001b[39m=\u001b[39m genetic_algorithm_iteration(mut_rate_range, cross_rate_range)\n\u001b[0;32m     <a href='vscode-notebook-cell:/e%3A/UO4_2/CSI4106/4106Assignments/CSI4106-Fall-2023/Assignment%201/CSI4106_A1.ipynb#Y266sZmlsZQ%3D%3D?line=21'>22</a>\u001b[0m     \u001b[39mprint\u001b[39m(result)\n\u001b[0;32m     <a href='vscode-notebook-cell:/e%3A/UO4_2/CSI4106/4106Assignments/CSI4106-Fall-2023/Assignment%201/CSI4106_A1.ipynb#Y266sZmlsZQ%3D%3D?line=22'>23</a>\u001b[0m     results\u001b[39m.\u001b[39mappend(result)\n",
      "\u001b[1;32me:\\UO4_2\\CSI4106\\4106Assignments\\CSI4106-Fall-2023\\Assignment 1\\CSI4106_A1.ipynb Cell 46\u001b[0m line \u001b[0;36m1\n\u001b[0;32m      <a href='vscode-notebook-cell:/e%3A/UO4_2/CSI4106/4106Assignments/CSI4106-Fall-2023/Assignment%201/CSI4106_A1.ipynb#Y266sZmlsZQ%3D%3D?line=4'>5</a>\u001b[0m pairs \u001b[39m=\u001b[39m [\n\u001b[0;32m      <a href='vscode-notebook-cell:/e%3A/UO4_2/CSI4106/4106Assignments/CSI4106-Fall-2023/Assignment%201/CSI4106_A1.ipynb#Y266sZmlsZQ%3D%3D?line=5'>6</a>\u001b[0m     (i, j)\n\u001b[0;32m      <a href='vscode-notebook-cell:/e%3A/UO4_2/CSI4106/4106Assignments/CSI4106-Fall-2023/Assignment%201/CSI4106_A1.ipynb#Y266sZmlsZQ%3D%3D?line=6'>7</a>\u001b[0m     \u001b[39mfor\u001b[39;00m i \u001b[39min\u001b[39;00m mut_rate_range\n\u001b[0;32m      <a href='vscode-notebook-cell:/e%3A/UO4_2/CSI4106/4106Assignments/CSI4106-Fall-2023/Assignment%201/CSI4106_A1.ipynb#Y266sZmlsZQ%3D%3D?line=7'>8</a>\u001b[0m     \u001b[39mfor\u001b[39;00m j \u001b[39min\u001b[39;00m cross_rate_range\n\u001b[0;32m      <a href='vscode-notebook-cell:/e%3A/UO4_2/CSI4106/4106Assignments/CSI4106-Fall-2023/Assignment%201/CSI4106_A1.ipynb#Y266sZmlsZQ%3D%3D?line=8'>9</a>\u001b[0m ]\n\u001b[0;32m     <a href='vscode-notebook-cell:/e%3A/UO4_2/CSI4106/4106Assignments/CSI4106-Fall-2023/Assignment%201/CSI4106_A1.ipynb#Y266sZmlsZQ%3D%3D?line=10'>11</a>\u001b[0m \u001b[39mwith\u001b[39;00m multiprocessing\u001b[39m.\u001b[39mPool(processes\u001b[39m=\u001b[39m\u001b[39mNone\u001b[39;00m) \u001b[39mas\u001b[39;00m pool:\n\u001b[1;32m---> <a href='vscode-notebook-cell:/e%3A/UO4_2/CSI4106/4106Assignments/CSI4106-Fall-2023/Assignment%201/CSI4106_A1.ipynb#Y266sZmlsZQ%3D%3D?line=11'>12</a>\u001b[0m     results \u001b[39m=\u001b[39m pool\u001b[39m.\u001b[39mmap(genetic_algorithm_worker, pairs)\n\u001b[0;32m     <a href='vscode-notebook-cell:/e%3A/UO4_2/CSI4106/4106Assignments/CSI4106-Fall-2023/Assignment%201/CSI4106_A1.ipynb#Y266sZmlsZQ%3D%3D?line=13'>14</a>\u001b[0m \u001b[39mreturn\u001b[39;00m results\n",
      "\u001b[1;31mNameError\u001b[0m: name 'genetic_algorithm_worker' is not defined"
     ]
    }
   ],
   "source": [
    "import multiprocessing\n",
    "from matplotlib import pyplot as plot\n",
    "\n",
    "def genetic_algorithm_iteration(mut_rate_range, cross_rate_range):\n",
    "    pairs = [\n",
    "        (i, j)\n",
    "        for i in mut_rate_range\n",
    "        for j in cross_rate_range\n",
    "    ]\n",
    "\n",
    "    with multiprocessing.Pool(processes=None) as pool:\n",
    "        results = pool.map(genetic_algorithm_worker, pairs)\n",
    "\n",
    "    return results\n",
    "\n",
    "def genetic_algorithm_epoch(iteration_count, mut_rate_range, cross_rate_range):\n",
    "    results = []\n",
    "    \n",
    "    for i in range(iteration_count):\n",
    "        print(f\"Iteration {i + 1}: \")\n",
    "        result = genetic_algorithm_iteration(mut_rate_range, cross_rate_range)\n",
    "        print(result)\n",
    "        results.append(result)\n",
    "\n",
    "    return np.mean(results)\n",
    "\n",
    "def genetic_algorithm_plot(mut_rate_range, cross_rate_range, data):\n",
    "    data_transformed = np.reshape(data, (len(mut_rate_range), len(cross_rate_range)))\n",
    "    plot.imshow(data_transformed, cmap=\"Greens\")\n",
    "\n",
    "    plot.xticks(np.arange(len(mut_rate_range)), labels=[round(i, 3) for i in mut_rate_range])\n",
    "    plot.yticks(np.arange(len(cross_rate_range)), labels=[round(i, 3) for i in cross_rate_range])\n",
    "\n",
    "    plot.xlabel(\"Mutation rate\")\n",
    "    plot.ylabel(\"Cross rate\")\n",
    "\n",
    "    plot.colorbar()\n",
    "    plot.show()\n",
    "\n",
    "mut_rate_range=np.arange(0.1, 1, 0.1)\n",
    "cross_rate_range=np.arange(0.1, 1, 0.1)\n",
    "iteration_count = 5\n",
    "\n",
    "result = genetic_algorithm_epoch(5, mut_rate_range, cross_rate_range)\n",
    "genetic_algorithm_plot(mut_rate_range, cross_rate_range, result)"
   ]
  },
  {
   "cell_type": "markdown",
   "metadata": {
    "id": "5yn8KLah-xGF"
   },
   "source": [
    "**Your Analysis:**"
   ]
  },
  {
   "cell_type": "markdown",
   "metadata": {
    "id": "ekb0LOgF-xUN"
   },
   "source": [
    "------------------------------------------------------------------------------------------------"
   ]
  },
  {
   "cell_type": "markdown",
   "metadata": {
    "id": "NdO_H-4t-6mg"
   },
   "source": [
    "**8. Comparative Study**\n",
    "\n",
    "The table below shows the average accuracy of algorithms with 10 runs.\n",
    "Each section above contains its only tables/diagram swith different impact factors. For the generate and test, and greedy algothrim. Since the solutions are always constant, their diagrams are not included into the analysis.\n",
    "\n",
    "According to the table below, the \"Generate and Test\" method and Genetic algothrim provide higher accuracies. However, the Generate and Test explores all solutions which needs the highest time cost, so the \"Generate and Test\" method is not a good choice when the dataset is very large. Simulated Annealing Algorithm is also able to reach a high accuracy that is about 98% after serval test, but the accuracies are not very stable. Sometime the accuracies are about 92%. \n",
    "\n",
    "In general, the Genetic Algorithm is the best way among 4 methods.\n",
    "\n",
    "![Alt text](output.png)"
   ]
  },
  {
   "cell_type": "code",
   "execution_count": 38,
   "metadata": {},
   "outputs": [
    {
     "data": {
      "image/png": "[encoded data removed]",
      "text/plain": [
       "<Figure size 640x480 with 1 Axes>"
      ]
     },
     "metadata": {},
     "output_type": "display_data"
    }
   ],
   "source": [
    "#Algorithms comparison\n",
    "\n",
    "from matplotlib import pyplot as plot\n",
    "\n",
    "algorithms = [\"Generate and Test\", \"Greedy\", \"Simulated Annealing\", \"Genetic\"]\n",
    "results = [0]*4\n",
    "\n",
    "tmp_result = 0\n",
    "for i in range(10):\n",
    "    solutions = []\n",
    "    for _, row in dataset.iterrows():\n",
    "        target = row['Best price']\n",
    "        solution, indexes = gen_and_test(row)\n",
    "        solutions.append(1 if target == solution else 0)\n",
    "    tmp_result += np.mean(solutions)\n",
    "\n",
    "results[0] = tmp_result/10\n",
    "\n",
    "tmp_result = 0\n",
    "for i in range(10):\n",
    "    solutions_greedy = []\n",
    "    for _, row in dataset.iterrows():\n",
    "        target = row['Best price']\n",
    "        solution, indexes = greedy(row)\n",
    "        solutions_greedy.append(1 if target == solution else 0)\n",
    "    tmp_result += np.mean(solutions_greedy)\n",
    "\n",
    "results[1] = tmp_result/10\n",
    "\n",
    "tmp_result = 0\n",
    "for i in range(10):\n",
    "    solutions_sa = []\n",
    "    for _, row in dataset.iterrows():\n",
    "        target = row['Best price']\n",
    "        solution, indexes = simulated_annealing(row, N = 200, initial_temperature=3000, cooling_rate=0.95)\n",
    "        solutions_sa.append(1 if target == solution else 0)\n",
    "    tmp_result += np.mean(solutions_sa)\n",
    "\n",
    "results[2] = tmp_result/10\n",
    "\n",
    "tmp_result = 0\n",
    "for i in range(10):\n",
    "    solutions_ga = []\n",
    "    for _, row in dataset.iterrows():\n",
    "        target = row['Best price']\n",
    "        solution, indexes = genetic_algorithm(row, population_size = 50, num_generations = 50, mut_rate = 0.1, cross_rate = 0.7, tournament_size = 5)\n",
    "        solutions_ga.append(1 if target == solution else 0)\n",
    "    tmp_result += np.mean(solutions_ga)\n",
    "\n",
    "results[3] = tmp_result/10\n",
    "\n",
    "\n",
    "plot.xlabel(\"Algorithm Names\")\n",
    "plot.ylabel(\"Accuracy\")\n",
    "plot.title(\"Algorithms Comparison with 10 runs\")\n",
    "plot.bar(algorithms, results)\n",
    "\n",
    "plot.show()"
   ]
  },
  {
   "cell_type": "markdown",
   "metadata": {
    "id": "4Ypp7TpkAIUe"
   },
   "source": [
    "--------------------------------------------------------------------------\n"
   ]
  },
  {
   "cell_type": "markdown",
   "metadata": {
    "id": "8Ikmq-si_23Y"
   },
   "source": [
    "**9. Conclusion**\n",
    "\n",
    "Comment on the empirical study, its results, and give ideas for future work."
   ]
  },
  {
   "cell_type": "markdown",
   "metadata": {
    "id": "41s8gvCNABDy"
   },
   "source": [
    "--------------------------------------------------------------------------\n"
   ]
  },
  {
   "cell_type": "markdown",
   "metadata": {
    "id": "PtbOgI1q_9a0"
   },
   "source": [
    "**10. References**\n",
    "\n",
    "[1] NumPy Developers, “NumPy reference,” NumPy reference - NumPy v1.26 Manual, https://numpy.org/doc/1.26/reference/index.html#reference (accessed Oct. 1, 2023).\n",
    "\n",
    "[2] The Matplotlib development team, “Matplotlib 3.8.0 documentation,” Matplotlib documentation - Matplotlib 3.8.0 documentation, https://matplotlib.org/stable/index.html (accessed Oct. 1, 2023).\n",
    "\n",
    "[3] Python Software Foundation, “Python 3.11.5 documentation,” 3.11.5 Documentation, https://docs.python.org/3/ (accessed Oct. 1, 2023)."
   ]
  },
  {
   "cell_type": "markdown",
   "metadata": {
    "id": "zF9cuDJqF75q"
   },
   "source": [
    "**Hint:** To share a link to your colab notebook, click on \"share\" on the top right. Then, under *General access* , change *Restricted* to \"Anyone with the link\"."
   ]
  }
 ],
 "metadata": {
  "colab": {
   "provenance": []
  },
  "kernelspec": {
   "display_name": "Python 3 (ipykernel)",
   "language": "python",
   "name": "python3"
  },
  "language_info": {
   "codemirror_mode": {
    "name": "ipython",
    "version": 3
   },
   "file_extension": ".py",
   "mimetype": "text/x-python",
   "name": "python",
   "nbconvert_exporter": "python",
   "pygments_lexer": "ipython3",
   "version": "3.11.0"
  }
 },
 "nbformat": 4,
 "nbformat_minor": 4
}
